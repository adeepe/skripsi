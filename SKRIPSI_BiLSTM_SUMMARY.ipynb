{
 "cells": [
  {
   "cell_type": "code",
   "execution_count": 1,
   "metadata": {},
   "outputs": [
    {
     "data": {
      "text/plain": [
       "==========================================================================================\n",
       "Layer (type:depth-idx)                   Output Shape              Param #\n",
       "==========================================================================================\n",
       "BiLSTM                                   [2, 1]                    --\n",
       "├─LSTM: 1-1                              [2, 5, 32]                9,984\n",
       "├─Linear: 1-2                            [2, 1]                    33\n",
       "==========================================================================================\n",
       "Total params: 10,017\n",
       "Trainable params: 10,017\n",
       "Non-trainable params: 0\n",
       "Total mult-adds (M): 0.10\n",
       "==========================================================================================\n",
       "Input size (MB): 0.00\n",
       "Forward/backward pass size (MB): 0.00\n",
       "Params size (MB): 0.04\n",
       "Estimated Total Size (MB): 0.04\n",
       "=========================================================================================="
      ]
     },
     "execution_count": 1,
     "metadata": {},
     "output_type": "execute_result"
    }
   ],
   "source": [
    "import torch\n",
    "import torch.nn as nn\n",
    "from torchinfo import summary\n",
    "\n",
    "class BiLSTM(nn.Module):\n",
    "    def __init__(self, input_size, output_size, hidden_size, num_layers, dropout):\n",
    "        super().__init__()\n",
    "        self.rnn = nn.LSTM(input_size, hidden_size, num_layers, dropout=dropout, batch_first=True, bidirectional=True)\n",
    "        self.fc = nn.Linear(2*hidden_size, output_size)\n",
    "\n",
    "    def forward(self, x, hidden=None):\n",
    "        x, hidden = self.rnn(x, hidden)\n",
    "        x = self.fc(x[:, -1, :])\n",
    "        return x, hidden\n",
    "\n",
    "# Contoh konfigurasi\n",
    "input_size = 10\n",
    "output_size = 1\n",
    "hidden_size = 16\n",
    "num_layers = 2\n",
    "dropout = 0.2\n",
    "seq_len = 5\n",
    "batch_size = 2\n",
    "\n",
    "# Buat instance model\n",
    "model = BiLSTM(input_size, output_size, hidden_size, num_layers, dropout)\n",
    "\n",
    "# Buat contoh input\n",
    "sample_input = torch.randn((batch_size, seq_len, input_size))\n",
    "\n",
    "# Tampilkan ringkasan model menggunakan torchinfo\n",
    "summary(model, input_size=(batch_size, seq_len, input_size))"
   ]
  },
  {
   "cell_type": "code",
   "execution_count": null,
   "metadata": {},
   "outputs": [],
   "source": []
  }
 ],
 "metadata": {
  "kernelspec": {
   "display_name": "Python [conda env:jcopdl]",
   "language": "python",
   "name": "conda-env-jcopdl-py"
  },
  "language_info": {
   "codemirror_mode": {
    "name": "ipython",
    "version": 3
   },
   "file_extension": ".py",
   "mimetype": "text/x-python",
   "name": "python",
   "nbconvert_exporter": "python",
   "pygments_lexer": "ipython3",
   "version": "3.9.10"
  }
 },
 "nbformat": 4,
 "nbformat_minor": 2
}
